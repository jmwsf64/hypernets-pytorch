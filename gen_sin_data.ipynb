{
  "cells": [
    {
      "cell_type": "markdown",
      "metadata": {
        "id": "z7H0FyAGZlos"
      },
      "source": [
        "# Overview\n",
        "\n",
        "This notebook is used to generate the training and test data sets used in the `sinusoidal-hypernets.ipynb` notebook. By keeping the notebooks separate, it makes `sinusoidal-hypernets.ipynb` more focused on the function and implementation of Hyper Networks in PyTorch.\n",
        "\n",
        "This notebook will use `NumPy` to generate sine waves with added noise to use for the training data set. The test and validation data sets will be on true sine waves with no added noise. There are (2) test data sets and (2) validation data sets. Each will have (1) set with HyperNet inputs that are found in the training data set, and (1) set with HyperNet inputs that were not in the training data set. In this way, we see how well the trained HyperNetwork predicts a true sine wave when only being given noisy sine waves for a parameter set, and also how it predicts a true sine wave with parameters it has never seen."
      ]
    },
    {
      "cell_type": "code",
      "execution_count": null,
      "metadata": {
        "id": "9DlmhsWkZloz"
      },
      "outputs": [],
      "source": [
        "import numpy as np\n",
        "import plotly.graph_objects as go"
      ]
    },
    {
      "cell_type": "markdown",
      "metadata": {
        "id": "p3fSoO1VZlo2"
      },
      "source": [
        "# Prep\n",
        "\n",
        "\n",
        "The inputs to the HyperNet will be Amplitude and Frequency. These variables define the range and number of samples for the Amplitude and Frequency arrays."
      ]
    },
    {
      "cell_type": "code",
      "execution_count": null,
      "metadata": {
        "id": "1e7HRv-CZlo3"
      },
      "outputs": [],
      "source": [
        "NUM_AMP_PTS = 15\n",
        "MIN_AMP = 0.1\n",
        "MAX_AMP = 0.9\n",
        "\n",
        "NUM_FREQ_PTS = 15\n",
        "MIN_FREQ = 2\n",
        "MAX_FREQ = 10"
      ]
    },
    {
      "cell_type": "markdown",
      "metadata": {
        "id": "p_xrSi4CZlo5"
      },
      "source": [
        "These variables are used to create the sine waves for all data sets.\n",
        "\n",
        "* `SEQ_LEN` and `PRED_LEN` are used to create input and prediction sequences for the LSTM TargetNet.\n",
        "* `TRAIN_STEP` and `TEST_STEP` define how much to step forward between sequenced data.\n",
        "    * In some demonstrations an `overlap` is defined instead.\n",
        "* `ARRAY_LEN` and `NOISE_FACTOR` define the number of points in the sine waves and how many different noisy sine waves each HyperNet input set will have.\n",
        "* Finally `NOISE_FACTOR` will define the max deviation for noise. This value is multiplied by Amplitude."
      ]
    },
    {
      "cell_type": "code",
      "execution_count": null,
      "metadata": {
        "id": "xi4m1MIDZlo8"
      },
      "outputs": [],
      "source": [
        "SEQ_LEN = 200\n",
        "PRED_LEN = 1\n",
        "TRAIN_STEP = 5\n",
        "TEST_STEP = 1\n",
        "ARRAY_LEN = 1000\n",
        "ARRAYS_PER_PARAM_SET = 15\n",
        "\n",
        "NOISE_FACTOR = 0.1"
      ]
    },
    {
      "cell_type": "markdown",
      "metadata": {
        "id": "oRFH8GJVZlo8"
      },
      "source": [
        "These define the number of arrays in:\n",
        "* The ***t***est data set with HyperNet ***t***raining parameters\n",
        "* The ***t***est data set with ***n***ew HyperNet parameters\n",
        "* The ***v***alidation data set with HyperNet ***t***raining parameters\n",
        "* The ***v***alidation data set with ***n***ew HyperNet parameters"
      ]
    },
    {
      "cell_type": "code",
      "execution_count": null,
      "metadata": {
        "id": "J6NRPoruZlo-"
      },
      "outputs": [],
      "source": [
        "NTTP = 5\n",
        "NTNP = 5\n",
        "NVTP = 5\n",
        "NVNP = 5"
      ]
    },
    {
      "cell_type": "markdown",
      "metadata": {
        "id": "CwHBXruCZlpA"
      },
      "source": [
        "Finally we define the saved filenames. Since we are using NumPy to save compressed data, the file extension must be `.npz`."
      ]
    },
    {
      "cell_type": "code",
      "execution_count": null,
      "metadata": {
        "id": "1gTO2egcZlpD"
      },
      "outputs": [],
      "source": [
        "TRAIN_FILE = \"sinusoidal-train.npz\"\n",
        "TEST1_FILE = \"sinusoidal-test-tp.npz\"\n",
        "TEST2_FILE = \"sinusoidal-test-np.npz\"\n",
        "VAL_1_FILE = \"sinusoidal-val-tp.npz\"\n",
        "VAL_2_FILE = \"sinusoidal-val-np.npz\""
      ]
    },
    {
      "cell_type": "markdown",
      "metadata": {
        "id": "LQuqsU6NZlpE"
      },
      "source": [
        "# Base Arrays\n",
        "\n",
        "Create the time array used in the creation of all sine waves. Also create the sample arrays for Amplitude and Frequency to create the HyperNet input arrays."
      ]
    },
    {
      "cell_type": "code",
      "execution_count": null,
      "metadata": {
        "id": "Y-4i2UXVZlpG"
      },
      "outputs": [],
      "source": [
        "A = np.linspace(MIN_AMP, MAX_AMP, NUM_AMP_PTS)\n",
        "F = np.linspace(MIN_FREQ, MAX_FREQ, NUM_FREQ_PTS)\n",
        "t = np.linspace(0, 2 * np.pi, ARRAY_LEN)"
      ]
    },
    {
      "cell_type": "markdown",
      "metadata": {
        "id": "7G8c6jDzZlpH"
      },
      "source": [
        "# Sequencing\n",
        "\n",
        "This function will take a sine wave (true or noisy) and convert it into LSTM sequences for later batching."
      ]
    },
    {
      "cell_type": "code",
      "execution_count": null,
      "metadata": {
        "id": "Bx1e-BZyZlpI"
      },
      "outputs": [],
      "source": [
        "def sequence_sine(sine_: np.ndarray, step: int) -> tuple[np.ndarray]:\n",
        "    seqs, preds, start = None, None, 0\n",
        "    for _ in range(int((ARRAY_LEN - SEQ_LEN - PRED_LEN) / step) + 1):\n",
        "        seq = sine_[start : start + SEQ_LEN].reshape(1, SEQ_LEN, 1)\n",
        "        pred = sine_[start + SEQ_LEN : start + SEQ_LEN + PRED_LEN].reshape(\n",
        "            1,\n",
        "        )\n",
        "        seqs = seq if seqs is None else np.vstack([seqs, seq])\n",
        "        preds = pred if preds is None else np.vstack([preds, pred])\n",
        "        start += step\n",
        "    return seqs, preds"
      ]
    },
    {
      "cell_type": "markdown",
      "metadata": {
        "id": "Sy5nOSstZlpK"
      },
      "source": [
        "# Training Arrays\n",
        "\n",
        "Here we create the noisy sine waves that are used for the training data set. We loop over the Amplitude and Frequency sampling arrays and record them separately from the sine wave data. Then we create and sequence the noisy sine waves and then save the arrays in a dictionary.\n",
        "\n",
        "Once all noisy sine waves are created and sequenced, we save the list of dictionaries of arrays to a compressed NumPy file."
      ]
    },
    {
      "cell_type": "code",
      "execution_count": null,
      "metadata": {
        "id": "f9F16TtMZlpL",
        "outputId": "8d3453f2-3a61-4515-de12-c4caf618ec6a"
      },
      "outputs": [
        {
          "name": "stdout",
          "output_type": "stream",
          "text": [
            "Created and sequenced 3375 arrays\n",
            "Writing training data set to sinusoidal-train.npz\n"
          ]
        }
      ],
      "source": [
        "train_ds, count = [], 0\n",
        "for amp in A:\n",
        "    for f in F:\n",
        "        hyper_params = np.array([amp, f])\n",
        "        for i in range(ARRAYS_PER_PARAM_SET):\n",
        "            sine = amp * np.sin(f * t) + (amp * NOISE_FACTOR * (np.random.rand(*t.shape) - 0.5))\n",
        "            seqs, preds = sequence_sine(sine, TRAIN_STEP)\n",
        "            train_ds.append({\"hx\": hyper_params, \"tx\": seqs, \"tyhat\": preds})\n",
        "            count += 1\n",
        "            print(f\"Created and sequenced {count} arrays\", end=\"\\r\")\n",
        "\n",
        "print(f\"Created and sequenced {count} arrays\")\n",
        "print(f\"Writing training data set to {TRAIN_FILE}\")\n",
        "np.savez_compressed(TRAIN_FILE, train_ds)"
      ]
    },
    {
      "cell_type": "markdown",
      "metadata": {
        "id": "HZGjkyVHZlpN"
      },
      "source": [
        "# Array Inspection\n",
        "\n",
        "To make sure that the noisy level is at the value we want, we will plot the last sine wave that was created. We don't want the noise to be so high that the data is no longer recognizable as a sine wave, but not so small that the difference from a true sine wave is negligible."
      ]
    },
    {
      "cell_type": "code",
      "execution_count": null,
      "metadata": {
        "id": "j7WOF3jiZlpO",
        "outputId": "3e1f5dcf-40e9-4d20-ee3a-ef4df77518cc"
      },
      "outputs": [
        {
          "data": {
            "image/png": "[encoded data removed]"
          },
          "metadata": {},
          "output_type": "display_data"
        }
      ],
      "source": [
        "# inspect the last sine wave\n",
        "fig = go.Figure()\n",
        "fig.update_layout(\n",
        "    xaxis={\n",
        "        \"tickmode\": \"array\",\n",
        "        \"tickvals\": [0.5 * np.pi, np.pi, 1.5 * np.pi, 2 * np.pi],\n",
        "        \"ticktext\": [\"π/2\", \"π\", \"3π/2\", \"2π\"],\n",
        "    },\n",
        ")\n",
        "fig.add_trace(\n",
        "    go.Scatter(\n",
        "        x=t,\n",
        "        y=sine,\n",
        "    )\n",
        ")\n",
        "fig.show()"
      ]
    },
    {
      "cell_type": "markdown",
      "metadata": {
        "id": "Gdrhi3RMZlpQ"
      },
      "source": [
        "# Test and Validation 1\n",
        "\n",
        "Now we create the test and validation data set with HyperNet input values that were found in the training data set created above.\n",
        "\n",
        "We randomly select different values of Amplitude and Frequency and create a true sine wave representation for those values.\n",
        "\n",
        "For a true representation of testing and validating our model, there can be no values in one data set that are also found in the other.\n",
        "\n",
        "Once all arrays are created and sequenced, we save them to the file names defined at the beginning of the notebook."
      ]
    },
    {
      "cell_type": "code",
      "execution_count": null,
      "metadata": {
        "id": "_QqzUs7EZlpQ"
      },
      "outputs": [],
      "source": [
        "A_sels, F_sels, test_1, val_1 = [], [], [], []\n",
        "\n",
        "for _ in range(NTTP):\n",
        "\n",
        "    # select random A and F from HyperNet training parameters\n",
        "    sel_A = np.random.randint(0, len(A) - 1, (100,))\n",
        "    sel_F = np.random.randint(0, len(F) - 1, (100,))\n",
        "    sel_A = [x for x in sel_A if x not in A_sels][0]\n",
        "    sel_F = [x for x in sel_F if x not in F_sels][0]\n",
        "    A_sels.append(sel_A)\n",
        "    F_sels.append(sel_F)\n",
        "\n",
        "    # create tensors\n",
        "    hyper_params = np.array([A[sel_A], F[sel_F]])\n",
        "    sine = A[sel_A] * np.sin(F[sel_F] * t)\n",
        "\n",
        "    # sequence sine wave array\n",
        "    seqs, preds = sequence_sine(sine, TRAIN_STEP)\n",
        "\n",
        "    # append data set\n",
        "    test_1.append({\"hx\": hyper_params, \"tx\": seqs, \"tyhat\": preds})\n",
        "\n",
        "for _ in range(NVTP):\n",
        "\n",
        "    # select random A and F from training HyperNet Parameters\n",
        "    sel_A = np.random.randint(0, len(A) - 1, (100,))\n",
        "    sel_F = np.random.randint(0, len(F) - 1, (100,))\n",
        "    sel_A = [x for x in sel_A if x not in A_sels][0]\n",
        "    sel_F = [x for x in sel_F if x not in F_sels][0]\n",
        "    A_sels.append(sel_A)\n",
        "    F_sels.append(sel_F)\n",
        "\n",
        "    # create tensors\n",
        "    hyper_params = np.array([A[sel_A], F[sel_F]])\n",
        "    sine = A[sel_A] * np.sin(F[sel_F] * t)\n",
        "\n",
        "    # sequence sine wave array\n",
        "    seqs, preds = sequence_sine(sine, TEST_STEP)\n",
        "\n",
        "    # append data set\n",
        "    val_1.append({\"hx\": hyper_params, \"tx\": seqs, \"tyhat\": preds})\n",
        "\n",
        "np.savez_compressed(TEST1_FILE, test_1)\n",
        "np.savez_compressed(VAL_1_FILE, val_1)"
      ]
    },
    {
      "cell_type": "markdown",
      "metadata": {
        "id": "nN7Zw4F6ZlpS"
      },
      "source": [
        "# Test and Validation 2\n",
        "\n",
        "Now we create the test and validation data sets for values that were not included in the training data set. We use NumPy's `rand()` funnction to generate 1000 different values and select the first one that was not in the training data set and not already selected previously.\n",
        "\n",
        "Once all arrays are created and sequenced, we save them to the file names defined at the beginning of the notebook."
      ]
    },
    {
      "cell_type": "code",
      "execution_count": null,
      "metadata": {
        "id": "XhcAn2hjZlpT"
      },
      "outputs": [],
      "source": [
        "min_A, max_A = min(A), max(A)\n",
        "min_F, max_F = min(F), max(F)\n",
        "\n",
        "A_sels, F_sels, test_2, val_2 = [], [], [], []\n",
        "\n",
        "for _ in range(NTNP):\n",
        "\n",
        "    # select random A and F not in HyperNet training parameters\n",
        "    sel_A = np.random.rand(1000)\n",
        "    sel_F = np.random.rand(1000) * max_F\n",
        "    sel_A = [x for x in sel_A if x not in A and x not in A_sels and min_A < x < max_A][0]\n",
        "    sel_F = [x for x in sel_F if x not in F and x not in F_sels and min_F < x < max_F][0]\n",
        "    A_sels.append(sel_A)\n",
        "    F_sels.append(sel_F)\n",
        "\n",
        "    # create tensors\n",
        "    hyper_params = np.array([sel_A, sel_F])\n",
        "    sine = sel_A * np.sin(sel_F * t)\n",
        "\n",
        "    # sequence sine wave array\n",
        "    seqs, preds = sequence_sine(sine, TRAIN_STEP)\n",
        "\n",
        "    # append data set\n",
        "    test_2.append({\"hx\": hyper_params, \"tx\": seqs, \"tyhat\": preds})\n",
        "\n",
        "for _ in range(NVNP):\n",
        "\n",
        "    # select random A and F not in HyperNet training parameters\n",
        "    sel_A = np.random.rand(1000)\n",
        "    sel_F = np.random.rand(1000) * max_F\n",
        "    sel_A = [x for x in sel_A if x not in A and x not in A_sels and min_A < x < max_A][0]\n",
        "    sel_F = [x for x in sel_F if x not in F and x not in F_sels and min_F < x < max_F][0]\n",
        "    A_sels.append(sel_A)\n",
        "    F_sels.append(sel_F)\n",
        "\n",
        "    # create tensors\n",
        "    hyper_params = np.array([sel_A, sel_F])\n",
        "    sine = sel_A * np.sin(sel_F * t)\n",
        "\n",
        "    # sequence sine wave array\n",
        "    seqs, preds = sequence_sine(sine, TEST_STEP)\n",
        "\n",
        "    # append data set\n",
        "    val_2.append({\"hx\": hyper_params, \"tx\": seqs, \"tyhat\": preds})\n",
        "\n",
        "np.savez_compressed(TEST2_FILE, test_2)\n",
        "np.savez_compressed(VAL_2_FILE, val_2)"
      ]
    }
  ],
  "metadata": {
    "kernelspec": {
      "display_name": "Python 3",
      "language": "python",
      "name": "python3"
    },
    "language_info": {
      "codemirror_mode": {
        "name": "ipython",
        "version": 3
      },
      "file_extension": ".py",
      "mimetype": "text/x-python",
      "name": "python",
      "nbconvert_exporter": "python",
      "pygments_lexer": "ipython3",
      "version": "3.10.12"
    },
    "colab": {
      "provenance": [],
      "toc_visible": true
    }
  },
  "nbformat": 4,
  "nbformat_minor": 0
}